{
  "nbformat": 4,
  "nbformat_minor": 0,
  "metadata": {
    "colab": {
      "provenance": [],
      "gpuType": "V28"
    },
    "kernelspec": {
      "name": "python3",
      "display_name": "Python 3"
    },
    "language_info": {
      "name": "python"
    },
    "accelerator": "TPU"
  },
  "cells": [
    {
      "cell_type": "code",
      "execution_count": null,
      "metadata": {
        "colab": {
          "base_uri": "https://localhost:8080/"
        },
        "id": "BmlbZo9L0VYU",
        "outputId": "db31d975-6c92-4cfb-b809-0274cdc3d319"
      },
      "outputs": [
        {
          "output_type": "stream",
          "name": "stdout",
          "text": [
            "                            Customer_ID        Customer_Name  Gender  Age  \\\n",
            "0  d5f6ec07-d69e-4f47-b9b4-7c58ff17c19e           Osha Tella    Male   60   \n",
            "1  7c14ad51-781a-4db9-b7bd-67439c175262      Hredhaan Khosla  Female   51   \n",
            "2  3a73a0e5-d4da-45aa-85f3-528413900a35       Ekani Nazareth    Male   20   \n",
            "3  7902f4ef-9050-4a79-857d-9c2ea3181940  Yamini Ramachandran  Female   57   \n",
            "4  3a4bba70-d9a9-4c5f-8b92-1735fd8c19e9         Kritika Rege  Female   43   \n",
            "\n",
            "         State                City                Bank_Branch Account_Type  \\\n",
            "0       Kerala  Thiruvananthapuram  Thiruvananthapuram Branch      Savings   \n",
            "1  Maharashtra              Nashik              Nashik Branch     Business   \n",
            "2        Bihar           Bhagalpur           Bhagalpur Branch      Savings   \n",
            "3   Tamil Nadu             Chennai             Chennai Branch     Business   \n",
            "4       Punjab            Amritsar            Amritsar Branch      Savings   \n",
            "\n",
            "                         Transaction_ID Transaction_Date  ...  \\\n",
            "0  4fa3208f-9e23-42dc-b330-844829d0c12c       23-01-2025  ...   \n",
            "1  c9de0c06-2c4c-40a9-97ed-3c7b8f97c79c       11-01-2025  ...   \n",
            "2  e41c55f9-c016-4ff3-872b-cae72467c75c       25-01-2025  ...   \n",
            "3  7f7ee11b-ff2c-45a3-802a-49bc47c02ecb       19-01-2025  ...   \n",
            "4  f8e6ac6f-81a1-4985-bf12-f60967d852ef       30-01-2025  ...   \n",
            "\n",
            "  Customer_Contact  Transaction_Description           Customer_Email  \\\n",
            "0   +9198579XXXXXX      Bitcoin transaction      oshaXXXXX@XXXXX.com   \n",
            "1   +9191074XXXXXX         Grocery delivery  hredhaanXXXX@XXXXXX.com   \n",
            "2   +9197745XXXXXX   Mutual fund investment      ekaniXXX@XXXXXX.com   \n",
            "3   +9195889XXXXXX            Food delivery  yaminiXXXXX@XXXXXXX.com   \n",
            "4   +9195316XXXXXX           Debt repayment   kritikaXXXX@XXXXXX.com   \n",
            "\n",
            "  Transaction_Category_achat Transaction_Category_retrait  \\\n",
            "0                      False                        False   \n",
            "1                       True                        False   \n",
            "2                      False                        False   \n",
            "3                      False                        False   \n",
            "4                       True                        False   \n",
            "\n",
            "   Transaction_Category_virement Is_Large_Transaction Balance_Change  \\\n",
            "0                           True                    1   -2733.888137   \n",
            "1                          False                    1   30761.312377   \n",
            "2                           True                    1  -70935.735661   \n",
            "3                           True                    1   12802.981188   \n",
            "4                          False                    1   16795.598309   \n",
            "\n",
            "  Is_New_User  Amount_vs_Balance  \n",
            "0           1           0.434772  \n",
            "1           0           0.584576  \n",
            "2           0           0.943796  \n",
            "3           0           0.240657  \n",
            "4           0           1.138225  \n",
            "\n",
            "[5 rows x 31 columns]\n"
          ]
        }
      ],
      "source": [
        "import pandas as pd\n",
        "import numpy as np\n",
        "\n",
        "# 1. Charger les données\n",
        "df = pd.read_csv(\"/content/synthetic_fraud_dataset.csv\")  # adapte le chemin si besoin\n",
        "S\n",
        "# 2. Supprimer les lignes avec des valeurs manquantes dans la cible\n",
        "df = df.dropna(subset=[\"Is_Fraud\"])\n",
        "\n",
        "# 3. Ajouter des features simulées\n",
        "\n",
        "# a) Transaction_Category (achat, retrait, virement)\n",
        "np.random.seed(42)  # pour reproductibilité\n",
        "df[\"Transaction_Category\"] = np.random.choice([\"achat\", \"retrait\", \"virement\"], size=len(df))\n",
        "df = pd.get_dummies(df, columns=[\"Transaction_Category\"])\n",
        "\n",
        "# b) Is_Large_Transaction (1 si montant élevé)\n",
        "df[\"Is_Large_Transaction\"] = (df[\"Transaction_Amount\"] > 0.5).astype(int)\n",
        "\n",
        "# c) Balance_Change (variation du solde après transaction)\n",
        "df[\"Balance_Change\"] = df[\"Transaction_Amount\"] * np.random.uniform(-1.5, 1.5, size=len(df))\n",
        "\n",
        "# d) Is_New_User (nouvel utilisateur ou non)\n",
        "df[\"Is_New_User\"] = np.random.choice([0, 1], size=len(df), p=[0.7, 0.3])\n",
        "\n",
        "# e) Amount_vs_Balance (ratio entre le montant et le solde, éviter la division par 0)\n",
        "df[\"Amount_vs_Balance\"] = df[\"Transaction_Amount\"] / (df[\"Account_Balance\"] + 1e-6)\n",
        "\n",
        "# 4. Afficher les premières lignes pour vérification\n",
        "print(df.head())\n",
        "\n",
        "# 5. Enregistrer le nouveau dataset si besoin\n",
        "df.to_csv(\"Bank_Transaction_Fraud_Detection_FE.csv\", index=False)\n"
      ]
    },
    {
      "cell_type": "code",
      "source": [
        "!pip install imblearn xgboost\n",
        "import pandas as pd\n",
        "from sklearn.model_selection import StratifiedKFold\n",
        "from sklearn.metrics import accuracy_score, precision_score, recall_score, f1_score, roc_auc_score, confusion_matrix\n",
        "from sklearn.ensemble import RandomForestClassifier\n",
        "from xgboost import XGBClassifier\n",
        "from sklearn.preprocessing import StandardScaler\n",
        "from imblearn.over_sampling import SMOTE\n",
        "import numpy as np\n",
        "import matplotlib.pyplot as plt\n",
        "import seaborn as sns\n",
        "\n",
        "# 1. Charger les données\n",
        "df = pd.read_csv('/content/Bank_Transaction_Fraud_Detection_FE.csv')\n",
        "df = df.dropna(subset=['Is_Fraud'])\n",
        "\n",
        "# 2. Séparer X et y\n",
        "X = df.drop('Is_Fraud', axis=1)\n",
        "y = df['Is_Fraud']\n",
        "\n",
        "# 3. Supprimer colonnes non numériques (IDs, UUID, etc.)\n",
        "non_numeric_cols = X.select_dtypes(exclude=['number']).columns\n",
        "X = X.drop(columns=non_numeric_cols)\n",
        "\n",
        "# 4. Normalisation\n",
        "scaler = StandardScaler()\n",
        "X_scaled = scaler.fit_transform(X)\n",
        "\n",
        "# 5. Rééquilibrage avec SMOTE\n",
        "smote = SMOTE(random_state=42)\n",
        "X_resampled, y_resampled = smote.fit_resample(X_scaled, y)\n",
        "\n",
        "# 6. Préparer la validation croisée stratifiée\n",
        "skf = StratifiedKFold(n_splits=5, shuffle=True, random_state=42)\n",
        "\n",
        "# 7. Initialiser les modèles (sans use_label_encoder pour éviter warning)\n",
        "models = {\n",
        "    \"Random Forest\": RandomForestClassifier(random_state=42),\n",
        "    \"XGBoost\": XGBClassifier(eval_metric='logloss', random_state=42)\n",
        "}\n",
        "\n",
        "# 8. Fonction d'évaluation avec cross-validation + matrice de confusion sur dernier fold\n",
        "def evaluate_model_with_confusion(model, X, y, cv):\n",
        "    accuracies = []\n",
        "    precisions = []\n",
        "    recalls = []\n",
        "    f1s = []\n",
        "    roc_aucs = []\n",
        "    last_cm = None\n",
        "\n",
        "    for fold_idx, (train_idx, test_idx) in enumerate(cv.split(X, y)):\n",
        "        X_train, X_test = X[train_idx], X[test_idx]\n",
        "        y_train, y_test = y[train_idx], y[test_idx]\n",
        "\n",
        "        model.fit(X_train, y_train)\n",
        "        y_pred = model.predict(X_test)\n",
        "        y_prob = model.predict_proba(X_test)[:, 1]\n",
        "\n",
        "        accuracies.append(accuracy_score(y_test, y_pred))\n",
        "        precisions.append(precision_score(y_test, y_pred))\n",
        "        recalls.append(recall_score(y_test, y_pred))\n",
        "        f1s.append(f1_score(y_test, y_pred))\n",
        "        roc_aucs.append(roc_auc_score(y_test, y_prob))\n",
        "\n",
        "        # Garder la matrice de confusion du dernier fold\n",
        "        if fold_idx == cv.get_n_splits() - 1:\n",
        "            last_cm = confusion_matrix(y_test, y_pred)\n",
        "\n",
        "    print(f\"--- Évaluation pour {model.__class__.__name__} ---\")\n",
        "    print(f\"Accuracy: {np.mean(accuracies):.4f} ± {np.std(accuracies):.4f}\")\n",
        "    print(f\"Precision: {np.mean(precisions):.4f} ± {np.std(precisions):.4f}\")\n",
        "    print(f\"Recall: {np.mean(recalls):.4f} ± {np.std(recalls):.4f}\")\n",
        "    print(f\"F1-Score: {np.mean(f1s):.4f} ± {np.std(f1s):.4f}\")\n",
        "    print(f\"ROC-AUC: {np.mean(roc_aucs):.4f} ± {np.std(roc_aucs):.4f}\\n\")\n",
        "\n",
        "    # Afficher la matrice de confusion\n",
        "    plt.figure(figsize=(5,4))\n",
        "    sns.heatmap(last_cm, annot=True, fmt='d', cmap='Blues', cbar=False)\n",
        "    plt.title(f'Matrice de confusion (dernier fold) - {model.__class__.__name__}')\n",
        "    plt.xlabel('Prédiction')\n",
        "    plt.ylabel('Vérité terrain')\n",
        "    plt.show()\n",
        "\n",
        "# 9. Lancer l'évaluation\n",
        "for name, model in models.items():\n",
        "    print(f\"Évaluation du modèle : {name}\")\n",
        "    evaluate_model_with_confusion(model, X_resampled, y_resampled, skf)\n"
      ],
      "metadata": {
        "colab": {
          "base_uri": "https://localhost:8080/",
          "height": 1000
        },
        "id": "OZ4XK3z71A8W",
        "outputId": "4caa877a-f3b9-42b5-b2c0-1a145867889c"
      },
      "execution_count": null,
      "outputs": [
        {
          "output_type": "stream",
          "name": "stdout",
          "text": [
            "Collecting imblearn\n",
            "  Downloading imblearn-0.0-py2.py3-none-any.whl.metadata (355 bytes)\n",
            "Collecting xgboost\n",
            "  Downloading xgboost-3.0.2-py3-none-manylinux_2_28_x86_64.whl.metadata (2.1 kB)\n",
            "Collecting imbalanced-learn (from imblearn)\n",
            "  Downloading imbalanced_learn-0.13.0-py3-none-any.whl.metadata (8.8 kB)\n",
            "Requirement already satisfied: numpy in /usr/local/lib/python3.11/dist-packages (from xgboost) (2.0.2)\n",
            "Collecting nvidia-nccl-cu12 (from xgboost)\n",
            "  Downloading nvidia_nccl_cu12-2.27.3-py3-none-manylinux2014_x86_64.manylinux_2_17_x86_64.whl.metadata (2.0 kB)\n",
            "Requirement already satisfied: scipy in /usr/local/lib/python3.11/dist-packages (from xgboost) (1.15.3)\n",
            "Requirement already satisfied: scikit-learn<2,>=1.3.2 in /usr/local/lib/python3.11/dist-packages (from imbalanced-learn->imblearn) (1.6.1)\n",
            "Collecting sklearn-compat<1,>=0.1 (from imbalanced-learn->imblearn)\n",
            "  Downloading sklearn_compat-0.1.3-py3-none-any.whl.metadata (18 kB)\n",
            "Requirement already satisfied: joblib<2,>=1.1.1 in /usr/local/lib/python3.11/dist-packages (from imbalanced-learn->imblearn) (1.5.1)\n",
            "Requirement already satisfied: threadpoolctl<4,>=2.0.0 in /usr/local/lib/python3.11/dist-packages (from imbalanced-learn->imblearn) (3.6.0)\n",
            "Downloading imblearn-0.0-py2.py3-none-any.whl (1.9 kB)\n",
            "Downloading xgboost-3.0.2-py3-none-manylinux_2_28_x86_64.whl (253.9 MB)\n",
            "\u001b[2K   \u001b[90m━━━━━━━━━━━━━━━━━━━━━━━━━━━━━━━━━━━━━━━━\u001b[0m \u001b[32m253.9/253.9 MB\u001b[0m \u001b[31m4.3 MB/s\u001b[0m eta \u001b[36m0:00:00\u001b[0m\n",
            "\u001b[?25hDownloading imbalanced_learn-0.13.0-py3-none-any.whl (238 kB)\n",
            "\u001b[2K   \u001b[90m━━━━━━━━━━━━━━━━━━━━━━━━━━━━━━━━━━━━━━━━\u001b[0m \u001b[32m238.4/238.4 kB\u001b[0m \u001b[31m19.9 MB/s\u001b[0m eta \u001b[36m0:00:00\u001b[0m\n",
            "\u001b[?25hDownloading nvidia_nccl_cu12-2.27.3-py3-none-manylinux2014_x86_64.manylinux_2_17_x86_64.whl (322.4 MB)\n",
            "\u001b[2K   \u001b[90m━━━━━━━━━━━━━━━━━━━━━━━━━━━━━━━━━━━━━━━━\u001b[0m \u001b[32m322.4/322.4 MB\u001b[0m \u001b[31m3.3 MB/s\u001b[0m eta \u001b[36m0:00:00\u001b[0m\n",
            "\u001b[?25hDownloading sklearn_compat-0.1.3-py3-none-any.whl (18 kB)\n",
            "Installing collected packages: nvidia-nccl-cu12, xgboost, sklearn-compat, imbalanced-learn, imblearn\n",
            "Successfully installed imbalanced-learn-0.13.0 imblearn-0.0 nvidia-nccl-cu12-2.27.3 sklearn-compat-0.1.3 xgboost-3.0.2\n",
            "Évaluation du modèle : Random Forest\n",
            "--- Évaluation pour RandomForestClassifier ---\n",
            "Accuracy: 0.9164 ± 0.0011\n",
            "Precision: 0.9087 ± 0.0014\n",
            "Recall: 0.9258 ± 0.0011\n",
            "F1-Score: 0.9172 ± 0.0011\n",
            "ROC-AUC: 0.9737 ± 0.0004\n",
            "\n"
          ]
        },
        {
          "output_type": "display_data",
          "data": {
            "text/plain": [
              "<Figure size 500x400 with 1 Axes>"
            ],
            "image/png": "[encoded data removed]"
          },
          "metadata": {}
        },
        {
          "output_type": "stream",
          "name": "stdout",
          "text": [
            "Évaluation du modèle : XGBoost\n",
            "--- Évaluation pour XGBClassifier ---\n",
            "Accuracy: 0.7985 ± 0.0046\n",
            "Precision: 0.9729 ± 0.0019\n",
            "Recall: 0.6141 ± 0.0084\n",
            "F1-Score: 0.7529 ± 0.0068\n",
            "ROC-AUC: 0.8687 ± 0.0032\n",
            "\n"
          ]
        },
        {
          "output_type": "display_data",
          "data": {
            "text/plain": [
              "<Figure size 500x400 with 1 Axes>"
            ],
            "image/png": "[encoded data removed]"
          },
          "metadata": {}
        }
      ]
    },
    {
      "cell_type": "code",
      "source": [
        "import joblib\n",
        "\n",
        "\n",
        "for name, model in models.items():\n",
        "    joblib.dump(model,f'{name}.pkl')\n"
      ],
      "metadata": {
        "id": "fcoP82KZs7dW"
      },
      "execution_count": null,
      "outputs": []
    },
    {
      "cell_type": "code",
      "source": [
        "\n",
        "joblib.dump(scaler,\"scaler.pkl\")"
      ],
      "metadata": {
        "id": "jqRfnn5NyC5Z",
        "colab": {
          "base_uri": "https://localhost:8080/"
        },
        "outputId": "1e128b19-5dec-44ef-e24f-744e4f6682a0"
      },
      "execution_count": null,
      "outputs": [
        {
          "output_type": "execute_result",
          "data": {
            "text/plain": [
              "['scaler.pkl']"
            ]
          },
          "metadata": {},
          "execution_count": 5
        }
      ]
    }
  ]
}